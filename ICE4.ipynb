{
 "cells": [
  {
   "cell_type": "markdown",
   "id": "5a62ff7c",
   "metadata": {},
   "source": [
    "# 🐍 ICE 4: Repetition Structures"
   ]
  },
  {
   "cell_type": "markdown",
   "id": "f582ee29",
   "metadata": {},
   "source": [
    "### Exercise 1: Counting Down (For Loop)\n",
    "\n",
    "Write a program that counts down from 10 to 1, then prints 'Blastoff!'"
   ]
  },
  {
   "cell_type": "code",
   "execution_count": 7,
   "id": "00bd6374",
   "metadata": {},
   "outputs": [
    {
     "name": "stdout",
     "output_type": "stream",
     "text": [
      "10\n",
      "9\n",
      "8\n",
      "7\n",
      "6\n",
      "5\n",
      "4\n",
      "3\n",
      "2\n",
      "1\n",
      "Blastoff!\n"
     ]
    }
   ],
   "source": [
    "for x in range(10, 0, -1):\n",
    "    print(x)\n",
    "print('Blastoff!')\n",
    "    "
   ]
  },
  {
   "cell_type": "markdown",
   "id": "ae003e24",
   "metadata": {},
   "source": [
    "### Exercise 2: Counting from 1 to N (For Loop)\n",
    "\n",
    "Write a program that asks the user for a number N and then prints numbers from 1 to N."
   ]
  },
  {
   "cell_type": "code",
   "execution_count": 14,
   "id": "76ee30fa",
   "metadata": {},
   "outputs": [
    {
     "name": "stdout",
     "output_type": "stream",
     "text": [
      "1\n",
      "2\n",
      "3\n",
      "4\n",
      "5\n",
      "6\n",
      "7\n",
      "8\n",
      "9\n",
      "10\n"
     ]
    }
   ],
   "source": [
    "n = int(input('Please enter a number'))\n",
    "for num in range(1, n+1, 1):\n",
    "    print(num)"
   ]
  },
  {
   "cell_type": "markdown",
   "id": "1e107460",
   "metadata": {},
   "source": [
    "### Exercise 3: Sum of Numbers (While Loop & Running Total)\n",
    "\n",
    "Write a program that keeps asking the user for numbers until they enter 0. Then, print the sum of all entered numbers."
   ]
  },
  {
   "cell_type": "code",
   "execution_count": 21,
   "id": "3e19e122",
   "metadata": {},
   "outputs": [
    {
     "name": "stdout",
     "output_type": "stream",
     "text": [
      "111\n"
     ]
    }
   ],
   "source": [
    "total = 0\n",
    "\n",
    "num = int(input('Enter a number to add'))\n",
    "\n",
    "while num != 0: \n",
    "    total += num\n",
    "    \n",
    "    num = int(input('Add another number (or press 0 to exit)'))\n",
    "print(total)"
   ]
  },
  {
   "cell_type": "markdown",
   "id": "bd0fbfe1",
   "metadata": {},
   "source": [
    "### Exercise 4: Even or Odd (While Loop & Input Validation)\n",
    "\n",
    "Write a program that asks the user for a positive number. If the number is negative, keep asking. Then, print whether it is even or odd."
   ]
  },
  {
   "cell_type": "code",
   "execution_count": 17,
   "id": "7aecf4e5",
   "metadata": {},
   "outputs": [
    {
     "name": "stdout",
     "output_type": "stream",
     "text": [
      "7 is odd\n"
     ]
    }
   ],
   "source": [
    "x = int(input('provide number'))\n",
    "if x % 2 == 0:\n",
    "    print(f'{x} is even')\n",
    "else:\n",
    "    print(f'{x} is odd')"
   ]
  },
  {
   "cell_type": "markdown",
   "id": "e37d4753",
   "metadata": {},
   "source": [
    "### Exercise 5: Simple Multiplication Table (For Loop)\n",
    "\n",
    "Write a program that asks for a number and prints its multiplication table up to 10."
   ]
  },
  {
   "cell_type": "code",
   "execution_count": 6,
   "id": "f978ba37",
   "metadata": {},
   "outputs": [
    {
     "name": "stdout",
     "output_type": "stream",
     "text": [
      "(7.0*0)=0.0\n",
      "(7.0*1)=7.0\n",
      "(7.0*2)=14.0\n",
      "(7.0*3)=21.0\n",
      "(7.0*4)=28.0\n",
      "(7.0*5)=35.0\n",
      "(7.0*6)=42.0\n",
      "(7.0*7)=49.0\n",
      "(7.0*8)=56.0\n",
      "(7.0*9)=63.0\n",
      "(7.0*10)=70.0\n"
     ]
    }
   ],
   "source": [
    "num = float(input(\"Please enter a number?\"))\n",
    "for x in range(0,10+1):\n",
    "    y = num*x \n",
    "    print(f'({num}*{x})={y}')\n",
    "    "
   ]
  },
  {
   "cell_type": "markdown",
   "id": "d3b90601",
   "metadata": {},
   "source": [
    "### Exercise 6: Password Validator (While Loop & Input Validation)\n",
    "\n",
    "Write a program that keeps asking for a password until the user enters 'python123'."
   ]
  },
  {
   "cell_type": "code",
   "execution_count": 16,
   "id": "d4e8d963",
   "metadata": {},
   "outputs": [
    {
     "name": "stdout",
     "output_type": "stream",
     "text": [
      "python123photo\n"
     ]
    }
   ],
   "source": [
    "password = 'python123'\n",
    "pas = str(input(\"What is the password?\"))\n",
    "while pas != 'python123':\n",
    "    password+=pas \n",
    "    \n",
    "    pas = input('Keep retrying password (\"or key python123 to stop.)')\n",
    "print(password)\n",
    "    \n",
    "\n",
    "\n",
    " "
   ]
  },
  {
   "cell_type": "markdown",
   "id": "b1bd41fc",
   "metadata": {},
   "source": [
    "### Exercise 7: Even or Odd in a List (For Loop)\n",
    "\n",
    "Write a program that iterates through a list of numbers [1,2,3,4,5,6,7,8,9,10] and prints whether each number is even or odd."
   ]
  },
  {
   "cell_type": "code",
   "execution_count": 21,
   "id": "ca5bf5f4",
   "metadata": {},
   "outputs": [
    {
     "name": "stdout",
     "output_type": "stream",
     "text": [
      "1 is odd\n",
      "2 is even\n",
      "3 is odd\n",
      "4 is even\n",
      "5 is odd\n",
      "6 is even\n",
      "7 is odd\n",
      "8 is even\n",
      "9 is odd\n",
      "10 is even\n"
     ]
    }
   ],
   "source": [
    "numbers = [1,2,3,4,5,6,7,8,9,10] # this is how we create a list in python\n",
    "for x in range(1, 11):\n",
    "    if x % 2 == 0:\n",
    "        print(f'{x} is even')\n",
    "    else:\n",
    "        print(f'{x} is odd')\n"
   ]
  },
  {
   "cell_type": "markdown",
   "id": "91201366",
   "metadata": {},
   "source": [
    "### Exercise 8: Nested Loops - Multiplication Table\n",
    "\n",
    "Write a program that prints a multiplication table (1-5) using nested loops."
   ]
  },
  {
   "cell_type": "code",
   "execution_count": 32,
   "id": "55aafdaa",
   "metadata": {},
   "outputs": [
    {
     "name": "stdout",
     "output_type": "stream",
     "text": [
      "1\t2\t3\t4\t5\t\n",
      "2\t4\t6\t8\t10\t\n",
      "3\t6\t9\t12\t15\t\n",
      "4\t8\t12\t16\t20\t\n",
      "5\t10\t15\t20\t25\t\n"
     ]
    }
   ],
   "source": [
    "for x in range(1, 6):\n",
    "    for y in range(1, 6):\n",
    "        print(x * y, end='\\t')\n",
    "    print()"
   ]
  }
 ],
 "metadata": {
  "kernelspec": {
   "display_name": "Python 3",
   "language": "python",
   "name": "python3"
  },
  "language_info": {
   "codemirror_mode": {
    "name": "ipython",
    "version": 3
   },
   "file_extension": ".py",
   "mimetype": "text/x-python",
   "name": "python",
   "nbconvert_exporter": "python",
   "pygments_lexer": "ipython3",
   "version": "3.13.1"
  }
 },
 "nbformat": 4,
 "nbformat_minor": 5
}
